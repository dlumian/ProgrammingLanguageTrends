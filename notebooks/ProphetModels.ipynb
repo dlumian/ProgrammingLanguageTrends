{
 "cells": [
  {
   "cell_type": "markdown",
   "id": "b29d100f-cafa-4c1d-beb6-9df8e81d8882",
   "metadata": {},
   "source": [
    "# Forecast Model of Internet Searches with Prophet"
   ]
  },
  {
   "cell_type": "code",
   "execution_count": 1,
   "id": "2efd3897-9125-453d-931d-cfafefa0c161",
   "metadata": {
    "tags": []
   },
   "outputs": [],
   "source": [
    "import os"
   ]
  },
  {
   "cell_type": "code",
   "execution_count": 2,
   "id": "0bb84adf-1877-4836-8dc6-5dee0aa25b76",
   "metadata": {},
   "outputs": [],
   "source": [
    "import numpy as np\n",
    "import pandas as pd\n",
    "import matplotlib.pyplot as plt\n",
    "import plotly.graph_objs as go"
   ]
  },
  {
   "cell_type": "markdown",
   "id": "9adc83c7-0bdc-446f-8603-464b1e05df64",
   "metadata": {},
   "source": [
    "# Functions"
   ]
  },
  {
   "cell_type": "code",
   "execution_count": 3,
   "id": "aea5102c-904b-433b-a99a-73f7064fd085",
   "metadata": {},
   "outputs": [],
   "source": [
    "def check_directory_name(target_name):\n",
    "    \"\"\"\n",
    "    Check if the current directory name matches the target_name.\n",
    "    If not, move up a directory and repeat the check.\n",
    "    \n",
    "    Args:\n",
    "        target_name (str): The directory name to match.\n",
    "        \n",
    "    Returns:\n",
    "        bool: True if the current directory name matches the target_name, False otherwise.\n",
    "    \"\"\"\n",
    "    # Get the current directory path\n",
    "    current_dir = os.getcwd()\n",
    "    \n",
    "    # Extract the directory name from the path\n",
    "    current_dir_name = os.path.basename(current_dir)\n",
    "    \n",
    "    # Check if the current directory name matches the target_name\n",
    "    if current_dir_name == target_name:\n",
    "        print(f'Directory set to {current_dir}, matches target dir sting {target_name}.')\n",
    "        return True\n",
    "    else:\n",
    "        # Move up a directory\n",
    "        os.chdir('..')\n",
    "        # Check if we have reached the root directory\n",
    "        if os.getcwd() == current_dir:\n",
    "            return False\n",
    "        # Recursively call the function to check the parent directory\n",
    "        return check_directory_name(target_name)"
   ]
  },
  {
   "cell_type": "markdown",
   "id": "465f12a4-2901-4c51-a4f4-341a6020b308",
   "metadata": {},
   "source": [
    "# Data Import and Basic EDA"
   ]
  },
  {
   "cell_type": "code",
   "execution_count": 4,
   "id": "3e671e2a-b407-450c-91d2-cfa4281957f4",
   "metadata": {},
   "outputs": [
    {
     "name": "stdout",
     "output_type": "stream",
     "text": [
      "Directory set to /Users/dsl/Documents/GitHub/ProgrammingLanguageTrends, matches target dir sting ProgrammingLanguageTrends.\n",
      "Working directory is set.\n"
     ]
    }
   ],
   "source": [
    "# Make sure cwd is set to repo base dir so all imports work\n",
    "# base_dir should be a str of the repo name\n",
    "base_dir = \"ProgrammingLanguageTrends\"\n",
    "if check_directory_name(base_dir):\n",
    "    print(\"Working directory is set.\")\n",
    "else:\n",
    "    print(\"Current directory does not match the target name or its parent directory is the root.\")"
   ]
  },
  {
   "cell_type": "code",
   "execution_count": 5,
   "id": "68b7820e-6098-4c5b-a0e8-c54b61fbe202",
   "metadata": {},
   "outputs": [],
   "source": [
    "# Read data into pandas df\n",
    "# NOTE: Data must be extracted from archive.zip and renamed data.csv\n",
    "df = pd.read_csv('data/data.csv')"
   ]
  }
 ],
 "metadata": {
  "kernelspec": {
   "display_name": "Python 3 (ipykernel)",
   "language": "python",
   "name": "python3"
  },
  "language_info": {
   "codemirror_mode": {
    "name": "ipython",
    "version": 3
   },
   "file_extension": ".py",
   "mimetype": "text/x-python",
   "name": "python",
   "nbconvert_exporter": "python",
   "pygments_lexer": "ipython3",
   "version": "3.11.7"
  }
 },
 "nbformat": 4,
 "nbformat_minor": 5
}
